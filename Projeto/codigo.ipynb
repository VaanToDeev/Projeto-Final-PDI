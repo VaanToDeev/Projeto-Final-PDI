!pip install dlib
!pip install face_recognition

import face_recognition
import cv2

input_movie = cv2.VideoCapture("coisanossa.mp4")
length = int(input_movie.get(cv2.CAP_PROP_FRAME_COUNT))

fourcc = cv2.VideoWriter_fourcc(*'XVID')
output_movie = cv2.VideoWriter('output.avi', fourcc, 29.97, (640, 360))

p1_image = face_recognition.load_image_file("igor.jpg")
p1_face_encoding = face_recognition.face_encodings(p1_image)[0]

p2_image = face_recognition.load_image_file("estevam.jpg")
p2_face_encoding = face_recognition.face_encodings(p2_image)[0]

known_faces = [
    p1_face_encoding,
    p2_face_encoding
]

face_locations = []
face_encodings = []
face_names = []
frame_number = 0
correct_predictions = 0
incorrect_predictions = 0

while True:
    ret, frame = input_movie.read()
    frame_number += 1

    if not ret:
        break

    rgb_frame = frame[:, :, ::-1]

    face_locations = face_recognition.face_locations(rgb_frame)
    face_encodings = face_recognition.face_encodings(rgb_frame, face_locations)

    face_names = []
    for face_encoding in face_encodings:
        match = face_recognition.compare_faces(known_faces, face_encoding, tolerance=0.50)

        name = None
        if match[0]:
            name = "Igor"
            correct_predictions += 1
        elif match[1]:
            name = "Nabote"
            correct_predictions += 1
        else:
            name = "Unknown"


        face_names.append(name)

    for (top, right, bottom, left), name in zip(face_locations, face_names):
        if not name:
            continue

        cv2.rectangle(frame, (left, top), (right, bottom), (0, 0, 255), 2)

        cv2.rectangle(frame, (left, bottom - 25), (right, bottom), (0, 0, 255), cv2.FILLED)
        font = cv2.FONT_HERSHEY_DUPLEX
        cv2.putText(frame, name, (left + 6, bottom - 6), font, 0.5, (255, 255, 255), 1)

    print("Writing frame {} / {}".format(frame_number, length))
    output_movie.write(frame)

input_movie.release()
cv2.destroyAllWindows()

total_predictions = correct_predictions + incorrect_predictions
accuracy = (correct_predictions / total_predictions) * 100 if total_predictions > 0 else 0

print("Total number of predictions:", total_predictions)
print("Correct predictions:", correct_predictions)
print("Incorrect predictions:", incorrect_predictions)
print("Accuracy: {:.2f}%".format(accuracy))
